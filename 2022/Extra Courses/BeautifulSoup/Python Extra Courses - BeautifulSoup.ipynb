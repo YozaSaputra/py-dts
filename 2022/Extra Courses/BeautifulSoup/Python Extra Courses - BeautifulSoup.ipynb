{
 "cells": [
  {
   "attachments": {
    "bs.png": {
     "image/png": "[encoded data removed]"
    }
   },
   "cell_type": "markdown",
   "id": "314c752e",
   "metadata": {},
   "source": [
    "# <center> Extra Courses : Web Scraping using BeautifulSoup </center>\n",
    "klik untuk [Open in colab](https://colab.research.google.com/github/ferdinand-winstein/py-dts/blob/master/2022/Extra%20Courses/Python%20Extra%20Courses%20-%20Pandas.ipynb?) \n",
    "\n",
    "![bs.png](attachment:bs.png)\n",
    "Beautiful Soup is a Python package for parsing HTML and XML documents (including having malformed markup, i.e. non-closed tags, so named after tag soup). It creates a parse tree for parsed pages that can be used to extract data from HTML,which is useful for web scraping.\n",
    "\n",
    "Beautiful Soup was started by Leonard Richardson, who continues to contribute to the project, and is additionally supported by Tidelift, a paid subscription to open-source maintenance."
   ]
  },
  {
   "cell_type": "markdown",
   "id": "2cffcc85",
   "metadata": {},
   "source": [
    "# Mengambil Content\n",
    "\n",
    "Contoh Webpage yang akan kita pakai [Here](https://keithgalli.github.io/web-scraping/example.html)"
   ]
  },
  {
   "cell_type": "code",
   "execution_count": null,
   "id": "popular-survivor",
   "metadata": {},
   "outputs": [],
   "source": [
    "import requests\n",
    "from bs4 import BeautifulSoup as bs #pip install BeautifulSoup4"
   ]
  },
  {
   "cell_type": "code",
   "execution_count": null,
   "id": "requested-consultancy",
   "metadata": {},
   "outputs": [],
   "source": [
    "# load webpage yang mau kita scrapping dengan request\n",
    "r = requests.get('https://keithgalli.github.io/web-scraping/example.html')\n",
    "\n",
    "# convert jadi object bs\n",
    "soup = bs(r.content)\n",
    "\n",
    "print(soup)"
   ]
  },
  {
   "cell_type": "code",
   "execution_count": null,
   "id": "ef506b91",
   "metadata": {},
   "outputs": [],
   "source": [
    "#output dengan indentasi - agar lebih mudah dibaca\n",
    "print(soup.prettify())"
   ]
  },
  {
   "cell_type": "markdown",
   "id": "western-supplier",
   "metadata": {},
   "source": [
    "# `find` dan `find_all`"
   ]
  },
  {
   "cell_type": "code",
   "execution_count": null,
   "id": "medieval-python",
   "metadata": {},
   "outputs": [],
   "source": [
    "soup.find('h2')"
   ]
  },
  {
   "cell_type": "code",
   "execution_count": null,
   "id": "french-learning",
   "metadata": {},
   "outputs": [],
   "source": [
    "soup.find_all('h2')"
   ]
  },
  {
   "cell_type": "code",
   "execution_count": null,
   "id": "opponent-detection",
   "metadata": {},
   "outputs": [],
   "source": [
    "soup.find_all(['h2', 'h1'])"
   ]
  },
  {
   "cell_type": "code",
   "execution_count": null,
   "id": "orange-morgan",
   "metadata": {},
   "outputs": [],
   "source": [
    "soup.find_all('p')"
   ]
  },
  {
   "cell_type": "code",
   "execution_count": null,
   "id": "later-tractor",
   "metadata": {},
   "outputs": [],
   "source": [
    "# You can pass in attributes to the find/find_all function\n",
    "soup.find('p', attrs={'id': 'paragraph-id'})"
   ]
  },
  {
   "cell_type": "code",
   "execution_count": null,
   "id": "furnished-breach",
   "metadata": {},
   "outputs": [],
   "source": [
    "# You can nest find/find_all calls\n",
    "body = soup.find('body')\n",
    "body"
   ]
  },
  {
   "cell_type": "code",
   "execution_count": null,
   "id": "1fff977c",
   "metadata": {},
   "outputs": [],
   "source": [
    "div = body.find('div')\n",
    "div"
   ]
  },
  {
   "cell_type": "code",
   "execution_count": null,
   "id": "comfortable-diesel",
   "metadata": {},
   "outputs": [],
   "source": [
    "header = div.find('h1')\n",
    "header"
   ]
  },
  {
   "cell_type": "code",
   "execution_count": null,
   "id": "bacterial-turkish",
   "metadata": {},
   "outputs": [],
   "source": [
    "soup.body.div.h1"
   ]
  },
  {
   "cell_type": "code",
   "execution_count": null,
   "id": "reflected-briefing",
   "metadata": {
    "scrolled": true
   },
   "outputs": [],
   "source": [
    "print(soup.prettify())"
   ]
  },
  {
   "cell_type": "markdown",
   "id": "1fe3e3d6",
   "metadata": {},
   "source": [
    "## menggunakan bantuan regex"
   ]
  },
  {
   "cell_type": "code",
   "execution_count": null,
   "id": "durable-single",
   "metadata": {},
   "outputs": [],
   "source": [
    "import re\n",
    "paragraph = soup.find_all('p', string=re.compile('Some'))\n",
    "paragraph"
   ]
  },
  {
   "cell_type": "code",
   "execution_count": null,
   "id": "driven-helping",
   "metadata": {},
   "outputs": [],
   "source": [
    "headers = soup.find_all('h2', string=re.compile('(H|h)eader'))\n",
    "headers"
   ]
  },
  {
   "cell_type": "markdown",
   "id": "planned-monitor",
   "metadata": {},
   "source": [
    "# `select` CSS Selector\n",
    "List CSS Selector : https://www.w3schools.com/cssref/css_selectors.asp"
   ]
  },
  {
   "cell_type": "code",
   "execution_count": null,
   "id": "documentary-movie",
   "metadata": {},
   "outputs": [],
   "source": [
    "content = soup.select(\"body div\")\n",
    "content"
   ]
  },
  {
   "cell_type": "code",
   "execution_count": null,
   "id": "e2b59437",
   "metadata": {},
   "outputs": [],
   "source": [
    "paragraphs = soup.select(\"h2 ~ p\")\n",
    "paragraphs"
   ]
  },
  {
   "cell_type": "code",
   "execution_count": null,
   "id": "acting-yellow",
   "metadata": {},
   "outputs": [],
   "source": [
    "paragraphs = soup.select('body > p')\n",
    "print(paragraphs)\n",
    "for paragraph in paragraphs:\n",
    "    print(paragraph.select('i'))"
   ]
  },
  {
   "cell_type": "code",
   "execution_count": null,
   "id": "verbal-miller",
   "metadata": {},
   "outputs": [],
   "source": [
    "par = soup.select('p#paragraph-id b')\n",
    "par"
   ]
  },
  {
   "cell_type": "code",
   "execution_count": null,
   "id": "primary-cliff",
   "metadata": {},
   "outputs": [],
   "source": [
    "soup.select('[id=paragraph-id]')"
   ]
  },
  {
   "cell_type": "markdown",
   "id": "ffe273eb",
   "metadata": {},
   "source": [
    "# Get different properties of the HTML"
   ]
  },
  {
   "cell_type": "code",
   "execution_count": null,
   "id": "generic-crazy",
   "metadata": {},
   "outputs": [],
   "source": [
    "soup.find('title').get_text()"
   ]
  },
  {
   "cell_type": "code",
   "execution_count": null,
   "id": "forced-means",
   "metadata": {},
   "outputs": [],
   "source": [
    "div"
   ]
  },
  {
   "cell_type": "code",
   "execution_count": null,
   "id": "productive-forwarding",
   "metadata": {
    "scrolled": false
   },
   "outputs": [],
   "source": [
    "div = soup.find('div')\n",
    "print(div.get_text())"
   ]
  },
  {
   "cell_type": "code",
   "execution_count": null,
   "id": "relevant-coast",
   "metadata": {},
   "outputs": [],
   "source": [
    "link = soup.find('a')\n",
    "link['href']"
   ]
  },
  {
   "cell_type": "code",
   "execution_count": null,
   "id": "romantic-maryland",
   "metadata": {},
   "outputs": [],
   "source": [
    "par = soup.select('p#paragraph-id')[0]\n",
    "par['id']"
   ]
  },
  {
   "cell_type": "markdown",
   "id": "sharp-registrar",
   "metadata": {},
   "source": [
    "# Code Navigation"
   ]
  },
  {
   "cell_type": "code",
   "execution_count": null,
   "id": "e3203ee9",
   "metadata": {},
   "outputs": [],
   "source": [
    "print(soup.prettify())"
   ]
  },
  {
   "cell_type": "code",
   "execution_count": null,
   "id": "fixed-governor",
   "metadata": {
    "scrolled": true
   },
   "outputs": [],
   "source": [
    "soup.body.find('div')"
   ]
  },
  {
   "cell_type": "markdown",
   "id": "69748a3c",
   "metadata": {},
   "source": [
    "## `find_parent()`"
   ]
  },
  {
   "cell_type": "code",
   "execution_count": null,
   "id": "bc04b847",
   "metadata": {},
   "outputs": [],
   "source": [
    "soup.body.find('div').find_parent()"
   ]
  },
  {
   "cell_type": "markdown",
   "id": "5e438459",
   "metadata": {},
   "source": [
    "## `find_next_siblings()` dan `find_previous_siblings()`"
   ]
  },
  {
   "cell_type": "code",
   "execution_count": null,
   "id": "eddb772c",
   "metadata": {
    "scrolled": true
   },
   "outputs": [],
   "source": [
    "soup.body.find(\"div\").find_next_siblings()"
   ]
  },
  {
   "cell_type": "code",
   "execution_count": null,
   "id": "70228c45",
   "metadata": {},
   "outputs": [],
   "source": [
    "soup.body.find(\"h2\").find_previous_sibling()"
   ]
  },
  {
   "cell_type": "markdown",
   "id": "79ad9af8",
   "metadata": {},
   "source": [
    "# Contoh\n",
    "\n",
    "Contoh Webpage yang akan kita pakai [Here](https://keithgalli.github.io/web-scraping/webpage.html)\n",
    "\n",
    "## Contoh 1 : Mengambil Link Media Sosial"
   ]
  },
  {
   "cell_type": "code",
   "execution_count": null,
   "id": "polish-bleeding",
   "metadata": {},
   "outputs": [],
   "source": [
    "r = requests.get('https://keithgalli.github.io/web-scraping/webpage.html')\n",
    "webpage = bs(r.content)\n",
    "\n",
    "#print(webpage.prettify())"
   ]
  },
  {
   "cell_type": "markdown",
   "id": "30df5155",
   "metadata": {},
   "source": [
    "### Metode 1 : Menggunakan `find`"
   ]
  },
  {
   "cell_type": "code",
   "execution_count": null,
   "id": "bb66e46a",
   "metadata": {},
   "outputs": [],
   "source": [
    "links = webpage.find('ul', attrs={'class':'socials'})\n",
    "link_list = links.find_all('a')\n",
    "actual_links = [link['href'] for link in link_list]\n",
    "actual_links"
   ]
  },
  {
   "cell_type": "markdown",
   "id": "24ad36b6",
   "metadata": {},
   "source": [
    "### Metode 2 : Menggunakan CSS Selector"
   ]
  },
  {
   "cell_type": "code",
   "execution_count": null,
   "id": "designing-money",
   "metadata": {},
   "outputs": [],
   "source": [
    "links = webpage.select('ul.socials a')\n",
    "actual_links = [link['href'] for link in links]\n",
    "actual_links"
   ]
  },
  {
   "cell_type": "markdown",
   "id": "e4fb95f4",
   "metadata": {},
   "source": [
    "#### Bisa kita ambil dari parent-nya juga"
   ]
  },
  {
   "cell_type": "code",
   "execution_count": null,
   "id": "reported-species",
   "metadata": {},
   "outputs": [],
   "source": [
    "links = webpage.select(\"li.social\")\n",
    "links"
   ]
  },
  {
   "cell_type": "code",
   "execution_count": null,
   "id": "9a5c840a",
   "metadata": {},
   "outputs": [],
   "source": [
    "links = webpage.select(\"body ul li.social a\")\n",
    "links"
   ]
  },
  {
   "cell_type": "markdown",
   "id": "63542001",
   "metadata": {},
   "source": [
    "## Contoh 2 : Mengambil Semua Text"
   ]
  },
  {
   "cell_type": "code",
   "execution_count": null,
   "id": "12a44be5",
   "metadata": {},
   "outputs": [],
   "source": [
    "header = webpage.body.find(\"h2\", string=\"Photos\")\n",
    "previous_elements = header.find_previous_siblings()\n",
    "previous_elements_sorted = previous_elements[::-1]\n",
    "elements = [x.get_text() for x in previous_elements_sorted]\n",
    "text = \"\\n\".join(elements)\n",
    "print(text)"
   ]
  },
  {
   "cell_type": "markdown",
   "id": "81d7f735",
   "metadata": {},
   "source": [
    "## Contoh 3 : Mengambil Table"
   ]
  },
  {
   "cell_type": "code",
   "execution_count": null,
   "id": "expired-forestry",
   "metadata": {},
   "outputs": [],
   "source": [
    "table = webpage.select('table.hockey-stats')[0]\n",
    "columns = table.find('thead').find_all('th')\n",
    "column_name = [column.string for column in columns]\n",
    "column_name"
   ]
  },
  {
   "cell_type": "code",
   "execution_count": null,
   "id": "monthly-soundtrack",
   "metadata": {
    "scrolled": true
   },
   "outputs": [],
   "source": [
    "import pandas as pd\n",
    "\n",
    "table_rows = table.find('tbody').find_all('tr')\n",
    "\n",
    "l=[]\n",
    "for tr in table_rows:\n",
    "    td= tr.find_all('td')\n",
    "    row = [txt.get_text().strip() for txt in td]\n",
    "    l.append(row)\n",
    "    \n",
    "    \n",
    "df = pd.DataFrame(l, columns=column_name)\n",
    "df"
   ]
  },
  {
   "cell_type": "markdown",
   "id": "optional-hampton",
   "metadata": {},
   "source": [
    "## Contoh 4 : Mengambil semua yang menggunakan kata \"is\""
   ]
  },
  {
   "cell_type": "code",
   "execution_count": null,
   "id": "widespread-burlington",
   "metadata": {},
   "outputs": [],
   "source": [
    "import re\n",
    "facts = webpage.select('ul.fun-facts li')\n",
    "fact_is = [fact.find(string = re.compile('is')) for fact in facts]\n",
    "fact_is\n",
    "fact_is_new = [fact.find_parent().get_text() for fact in fact_is if fact]\n",
    "fact_is_new\n"
   ]
  },
  {
   "cell_type": "markdown",
   "id": "e0a3e5bd",
   "metadata": {},
   "source": [
    "## Contoh 5 : Mendownload Gambar"
   ]
  },
  {
   "cell_type": "code",
   "execution_count": null,
   "id": "local-entrepreneur",
   "metadata": {
    "scrolled": true
   },
   "outputs": [],
   "source": [
    "img = webpage.select('div.row div.column img')\n",
    "img"
   ]
  },
  {
   "cell_type": "code",
   "execution_count": null,
   "id": "lyric-uniform",
   "metadata": {},
   "outputs": [],
   "source": [
    "url = \"https://keithgalli.github.io/web-scraping/\"\n",
    "\n",
    "lake = img[1]['src']\n",
    "full_url = url+lake\n",
    "full_url\n",
    "\n",
    "img_data = requests.get(full_url).content\n",
    "with open('Pontevecchio.jpg', 'wb') as handler:\n",
    "    handler.write(img_data)"
   ]
  },
  {
   "cell_type": "markdown",
   "id": "50483c7c",
   "metadata": {},
   "source": [
    "Tutorial : https://www.youtube.com/watch?v=GjKQ6V_ViQE&t=1935s\n",
    "\n",
    "Dokumentasi BeautifulSoup : https://www.crummy.com/software/BeautifulSoup/bs4/doc/"
   ]
  }
 ],
 "metadata": {
  "kernelspec": {
   "display_name": "Python 3",
   "language": "python",
   "name": "python3"
  },
  "language_info": {
   "codemirror_mode": {
    "name": "ipython",
    "version": 3
   },
   "file_extension": ".py",
   "mimetype": "text/x-python",
   "name": "python",
   "nbconvert_exporter": "python",
   "pygments_lexer": "ipython3",
   "version": "3.8.5"
  }
 },
 "nbformat": 4,
 "nbformat_minor": 5
}
